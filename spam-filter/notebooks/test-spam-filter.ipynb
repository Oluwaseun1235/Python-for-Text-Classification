{
 "cells": [
  {
   "cell_type": "code",
   "execution_count": 1,
   "metadata": {},
   "outputs": [],
   "source": [
    "# !pip install keras tensorflow-gpu"
   ]
  },
  {
   "cell_type": "code",
   "execution_count": 2,
   "metadata": {},
   "outputs": [
    {
     "name": "stderr",
     "output_type": "stream",
     "text": [
      "Using TensorFlow backend.\n"
     ]
    }
   ],
   "source": [
    "import os\n",
    "import sys\n",
    "import numpy as np\n",
    "from keras.preprocessing.text import Tokenizer\n",
    "from keras.preprocessing.sequence import pad_sequences\n",
    "from keras.utils import to_categorical\n",
    "from keras.layers import Dense, Input, GlobalMaxPooling1D\n",
    "from keras.layers import Conv1D, MaxPooling1D, Embedding, LSTM, SpatialDropout1D\n",
    "from keras.models import Model, Sequential\n",
    "from keras.initializers import Constant\n",
    "\n",
    "from keras.optimizers import Adadelta"
   ]
  },
  {
   "cell_type": "code",
   "execution_count": 3,
   "metadata": {},
   "outputs": [],
   "source": [
    "BASE_DIR            = os.path.dirname(os.getcwd())\n",
    "SPAM_DATA_PATH      = os.path.join(BASE_DIR, 'data', 'spam', 'spam.txt')\n",
    "NOT_SPAM_DATA_PATH  = os.path.join(BASE_DIR, 'data', 'spam', 'not-spam.txt')\n",
    "\n",
    "MAX_SEQUENCE_LENGTH = 1000\n",
    "MAX_NUM_WORDS = 20000\n",
    "EMBEDDING_DIM = 100\n",
    "VALIDATION_SPLIT = 0.2"
   ]
  },
  {
   "cell_type": "code",
   "execution_count": 4,
   "metadata": {},
   "outputs": [
    {
     "name": "stdout",
     "output_type": "stream",
     "text": [
      "Spam total 747\n",
      "Non spam total 4827\n"
     ]
    }
   ],
   "source": [
    "spam_text = open(SPAM_DATA_PATH, 'r')\n",
    "non_spam_text = open(NOT_SPAM_DATA_PATH, 'r')\n",
    "spam_lines = spam_text.readlines()\n",
    "non_spam_lines = non_spam_text.readlines()\n",
    "\n",
    "print(\"Spam total\", len(spam_lines))\n",
    "print(\"Non spam total\", len(non_spam_lines))\n",
    "\n",
    "texts = []\n",
    "labels = []\n",
    "for line in spam_lines:\n",
    "    texts.append(line)\n",
    "    labels.append(0)\n",
    "    \n",
    "for line in non_spam_lines:\n",
    "    texts.append(line)\n",
    "    labels.append(1)\n",
    "    \n",
    "spam_text.close()\n",
    "non_spam_text.close()"
   ]
  },
  {
   "cell_type": "code",
   "execution_count": 5,
   "metadata": {},
   "outputs": [],
   "source": [
    "MAX_NUM_WORDS = 747\n",
    "tokenizer = Tokenizer(num_words=MAX_NUM_WORDS)\n",
    "tokenizer.fit_on_texts(texts)\n",
    "sequences = tokenizer.texts_to_sequences(texts)"
   ]
  },
  {
   "cell_type": "code",
   "execution_count": 6,
   "metadata": {},
   "outputs": [
    {
     "name": "stdout",
     "output_type": "stream",
     "text": [
      "Found 9012 unique tokens.\n"
     ]
    }
   ],
   "source": [
    "word_index = tokenizer.word_index\n",
    "print('Found %s unique tokens.' % len(word_index))"
   ]
  },
  {
   "cell_type": "code",
   "execution_count": 7,
   "metadata": {},
   "outputs": [],
   "source": [
    "data = pad_sequences(sequences, maxlen=MAX_SEQUENCE_LENGTH)"
   ]
  },
  {
   "cell_type": "code",
   "execution_count": 8,
   "metadata": {},
   "outputs": [
    {
     "data": {
      "text/plain": [
       "array([[  0,   0,   0, ..., 174, 660, 393],\n",
       "       [  0,   0,   0, ..., 324, 232,   2],\n",
       "       [  0,   0,   0, ..., 517, 582,  64],\n",
       "       ...,\n",
       "       [  0,   0,   0, ...,  23, 104, 250],\n",
       "       [  0,   0,   0, ..., 202,  12,  47],\n",
       "       [  0,   0,   0, ...,   2,  61, 271]])"
      ]
     },
     "execution_count": 8,
     "metadata": {},
     "output_type": "execute_result"
    }
   ],
   "source": [
    "data"
   ]
  },
  {
   "cell_type": "code",
   "execution_count": 9,
   "metadata": {},
   "outputs": [],
   "source": [
    "labels = to_categorical(np.asarray(labels))"
   ]
  },
  {
   "cell_type": "code",
   "execution_count": 10,
   "metadata": {},
   "outputs": [
    {
     "name": "stdout",
     "output_type": "stream",
     "text": [
      "Shape of data tensor: (5574, 1000)\n",
      "Shape of label tensor: (5574, 2)\n"
     ]
    }
   ],
   "source": [
    "print('Shape of data tensor:', data.shape)\n",
    "print('Shape of label tensor:', labels.shape)"
   ]
  },
  {
   "cell_type": "code",
   "execution_count": 11,
   "metadata": {},
   "outputs": [
    {
     "name": "stdout",
     "output_type": "stream",
     "text": [
      "Preparing embedding matrix.\n"
     ]
    }
   ],
   "source": [
    "indices = np.arange(data.shape[0])\n",
    "np.random.shuffle(indices)\n",
    "data = data[indices]\n",
    "labels = labels[indices]\n",
    "num_validation_samples = int(VALIDATION_SPLIT * data.shape[0])\n",
    "\n",
    "x_train = data[:-num_validation_samples]\n",
    "y_train = labels[:-num_validation_samples]\n",
    "x_val = data[-num_validation_samples:]\n",
    "y_val = labels[-num_validation_samples:]\n",
    "\n",
    "print('Preparing embedding matrix.')"
   ]
  },
  {
   "cell_type": "code",
   "execution_count": 12,
   "metadata": {},
   "outputs": [
    {
     "name": "stdout",
     "output_type": "stream",
     "text": [
      "_________________________________________________________________\n",
      "Layer (type)                 Output Shape              Param #   \n",
      "=================================================================\n",
      "embedding_1 (Embedding)      (None, 1000, 128)         95616     \n",
      "_________________________________________________________________\n",
      "spatial_dropout1d_1 (Spatial (None, 1000, 128)         0         \n",
      "_________________________________________________________________\n",
      "lstm_1 (LSTM)                (None, 196)               254800    \n",
      "_________________________________________________________________\n",
      "dense_1 (Dense)              (None, 2)                 394       \n",
      "=================================================================\n",
      "Total params: 350,810\n",
      "Trainable params: 350,810\n",
      "Non-trainable params: 0\n",
      "_________________________________________________________________\n",
      "None\n"
     ]
    }
   ],
   "source": [
    "embed_dim = 128\n",
    "lstm_out = 196\n",
    "\n",
    "optimizer = Adadelta()\n",
    "model = Sequential()\n",
    "model.add(Embedding(MAX_NUM_WORDS, embed_dim, input_length=x_train.shape[1]))\n",
    "model.add(SpatialDropout1D(0.4))\n",
    "model.add(LSTM(lstm_out, dropout=0.2, recurrent_dropout=0.2))\n",
    "model.add(Dense(2, activation='softmax'))\n",
    "model.compile(loss='categorical_crossentropy', optimizer=optimizer, metrics=['accuracy'])\n",
    "print(model.summary())"
   ]
  },
  {
   "cell_type": "code",
   "execution_count": 13,
   "metadata": {},
   "outputs": [],
   "source": [
    "import os\n",
    "from keras.callbacks import ModelCheckpoint\n",
    "from keras.callbacks import EarlyStopping\n",
    "\n",
    "def get_callbacks(name='spam-filter'):\n",
    "    early_stopping = EarlyStopping(monitor='val_loss',\n",
    "        patience=7, \n",
    "        min_delta=0.0001)\n",
    "    checkpoint_path = os.path.join(BASE_DIR, 'models', 'checkpoints', name)\n",
    "    os.makedirs(checkpoint_path, exist_ok=True)\n",
    "    filepath = os.path.join(checkpoint_path, \n",
    "        'weights.{epoch:02d}-{val_loss:.2f}.hdf5')\n",
    "    checkpoint = ModelCheckpoint(filepath, \n",
    "        monitor='val_loss',  \n",
    "        save_best_only=True,\n",
    "        save_weights_only=True)\n",
    "    callbacks = [early_stopping, checkpoint]\n",
    "    return callbacks\n",
    "\n",
    "callbacks = get_callbacks()"
   ]
  },
  {
   "cell_type": "code",
   "execution_count": 14,
   "metadata": {},
   "outputs": [
    {
     "name": "stdout",
     "output_type": "stream",
     "text": [
      "Train on 4460 samples, validate on 1114 samples\n",
      "Epoch 1/100\n",
      " - 173s - loss: 0.2380 - acc: 0.9168 - val_loss: 0.1624 - val_acc: 0.9497\n",
      "Epoch 2/100\n",
      " - 172s - loss: 0.0897 - acc: 0.9731 - val_loss: 0.1081 - val_acc: 0.9704\n",
      "Epoch 3/100\n",
      " - 172s - loss: 0.0671 - acc: 0.9812 - val_loss: 0.0638 - val_acc: 0.9820\n",
      "Epoch 4/100\n",
      " - 172s - loss: 0.0557 - acc: 0.9832 - val_loss: 0.0614 - val_acc: 0.9829\n",
      "Epoch 5/100\n",
      " - 172s - loss: 0.0495 - acc: 0.9836 - val_loss: 0.0590 - val_acc: 0.9820\n",
      "Epoch 6/100\n",
      " - 173s - loss: 0.0473 - acc: 0.9861 - val_loss: 0.0556 - val_acc: 0.9856\n",
      "Epoch 7/100\n",
      " - 171s - loss: 0.0426 - acc: 0.9872 - val_loss: 0.0516 - val_acc: 0.9847\n",
      "Epoch 8/100\n",
      " - 171s - loss: 0.0397 - acc: 0.9879 - val_loss: 0.0513 - val_acc: 0.9865\n",
      "Epoch 9/100\n",
      " - 171s - loss: 0.0355 - acc: 0.9897 - val_loss: 0.0518 - val_acc: 0.9847\n",
      "Epoch 10/100\n",
      " - 171s - loss: 0.0348 - acc: 0.9901 - val_loss: 0.0606 - val_acc: 0.9847\n",
      "Epoch 11/100\n",
      " - 170s - loss: 0.0310 - acc: 0.9917 - val_loss: 0.0519 - val_acc: 0.9883\n",
      "Epoch 12/100\n",
      " - 170s - loss: 0.0322 - acc: 0.9906 - val_loss: 0.0501 - val_acc: 0.9856\n",
      "Epoch 13/100\n",
      " - 172s - loss: 0.0299 - acc: 0.9913 - val_loss: 0.0512 - val_acc: 0.9874\n",
      "Epoch 14/100\n",
      " - 170s - loss: 0.0291 - acc: 0.9915 - val_loss: 0.0506 - val_acc: 0.9883\n",
      "Epoch 15/100\n",
      " - 171s - loss: 0.0283 - acc: 0.9908 - val_loss: 0.0492 - val_acc: 0.9874\n",
      "Epoch 16/100\n",
      " - 171s - loss: 0.0277 - acc: 0.9924 - val_loss: 0.0546 - val_acc: 0.9856\n",
      "Epoch 17/100\n",
      " - 171s - loss: 0.0273 - acc: 0.9937 - val_loss: 0.0612 - val_acc: 0.9874\n",
      "Epoch 18/100\n",
      " - 171s - loss: 1.5887 - acc: 0.8657 - val_loss: 0.1020 - val_acc: 0.9758\n",
      "Epoch 19/100\n",
      " - 172s - loss: 0.0852 - acc: 0.9747 - val_loss: 0.0740 - val_acc: 0.9776\n",
      "Epoch 20/100\n",
      " - 171s - loss: 0.0461 - acc: 0.9863 - val_loss: 0.0515 - val_acc: 0.9874\n",
      "Epoch 21/100\n",
      " - 171s - loss: 0.0326 - acc: 0.9899 - val_loss: 0.0577 - val_acc: 0.9883\n",
      "Epoch 22/100\n",
      " - 171s - loss: 0.0278 - acc: 0.9922 - val_loss: 0.0505 - val_acc: 0.9892\n"
     ]
    },
    {
     "data": {
      "text/plain": [
       "<keras.callbacks.History at 0x251151f3048>"
      ]
     },
     "execution_count": 14,
     "metadata": {},
     "output_type": "execute_result"
    }
   ],
   "source": [
    "batch_size = 32\n",
    "epochs = 100\n",
    "model.fit(x_train, y_train, validation_data=(x_val, y_val), batch_size=batch_size, verbose=2, epochs=epochs, callbacks=callbacks)"
   ]
  },
  {
   "cell_type": "code",
   "execution_count": 15,
   "metadata": {},
   "outputs": [],
   "source": [
    "save_path =  os.path.join(BASE_DIR, 'models', 'test-spam-filter.h5')\n",
    "model.save(save_path)"
   ]
  },
  {
   "cell_type": "code",
   "execution_count": 37,
   "metadata": {},
   "outputs": [],
   "source": [
    "def predict(text):\n",
    "    txt = [text]\n",
    "    txt = tokenizer.texts_to_sequences(txt)\n",
    "    txt = pad_sequences(txt, maxlen=MAX_SEQUENCE_LENGTH, dtype='int32', value=0)\n",
    "    probs = model.predict(txt, batch_size=1, verbose=2)[0]\n",
    "    best = np.argmax(probs)\n",
    "    return probs, best, \"%.2f%% likelihood\"%(probs[best] * 100)"
   ]
  },
  {
   "cell_type": "code",
   "execution_count": 38,
   "metadata": {},
   "outputs": [
    {
     "data": {
      "text/plain": [
       "(array([2.6508796e-04, 9.9973494e-01], dtype=float32), 1, '99.97% likelihood')"
      ]
     },
     "execution_count": 38,
     "metadata": {},
     "output_type": "execute_result"
    }
   ],
   "source": [
    "predict(\"What a nice surprise!\")"
   ]
  },
  {
   "cell_type": "code",
   "execution_count": 39,
   "metadata": {},
   "outputs": [
    {
     "data": {
      "text/plain": [
       "(array([0.9731119 , 0.02688812], dtype=float32), 0, '97.31% likelihood')"
      ]
     },
     "execution_count": 39,
     "metadata": {},
     "output_type": "execute_result"
    }
   ],
   "source": [
    "predict(\"Last minute sale on all CELL phones in the UK now. Get urs free\")"
   ]
  },
  {
   "cell_type": "code",
   "execution_count": 40,
   "metadata": {},
   "outputs": [
    {
     "data": {
      "text/plain": [
       "(array([0.5048461 , 0.49515387], dtype=float32), 0, '50.48% likelihood')"
      ]
     },
     "execution_count": 40,
     "metadata": {},
     "output_type": "execute_result"
    }
   ],
   "source": [
    "predict(\"call for a free double plan\")"
   ]
  },
  {
   "cell_type": "code",
   "execution_count": null,
   "metadata": {},
   "outputs": [],
   "source": []
  }
 ],
 "metadata": {
  "kernelspec": {
   "display_name": "Python 3",
   "language": "python",
   "name": "python3"
  },
  "language_info": {
   "codemirror_mode": {
    "name": "ipython",
    "version": 3
   },
   "file_extension": ".py",
   "mimetype": "text/x-python",
   "name": "python",
   "nbconvert_exporter": "python",
   "pygments_lexer": "ipython3",
   "version": "3.6.3"
  }
 },
 "nbformat": 4,
 "nbformat_minor": 2
}
